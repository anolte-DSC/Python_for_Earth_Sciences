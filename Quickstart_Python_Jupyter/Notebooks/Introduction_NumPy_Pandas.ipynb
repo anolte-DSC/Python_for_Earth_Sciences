{
 "cells": [
  {
   "cell_type": "markdown",
   "id": "563b3a3c-bf69-4c1b-adf8-20591ced862c",
   "metadata": {},
   "source": [
    "# Introduction to NumPy & Pandas - Iris dataset"
   ]
  },
  {
   "cell_type": "markdown",
   "id": "df641402-07bf-4f03-9f73-99bbc872aa8a",
   "metadata": {},
   "source": [
    "## 1. Import packages"
   ]
  },
  {
   "cell_type": "code",
   "execution_count": 44,
   "id": "bfa36c8e-8bde-48da-b531-b3fb7e450643",
   "metadata": {},
   "outputs": [],
   "source": [
    "import numpy as np\n",
    "import pandas as pd"
   ]
  },
  {
   "cell_type": "markdown",
   "id": "5ab8e057-dadd-418d-b71c-3d2941555516",
   "metadata": {},
   "source": [
    "## 2. Import the Iris dataset into a Pandas DataFrame"
   ]
  },
  {
   "cell_type": "code",
   "execution_count": 45,
   "id": "a4e6a252-3c29-45d3-9298-3c1e1ffa1ca8",
   "metadata": {},
   "outputs": [],
   "source": [
    "url = 'C:/Users/annika/Nextcloud/Dokumente/_My_Workshops_Trainings/Github/Quickstart_Python_Jupyter/Datasets/Iris.csv'\n",
    "#url = 'https://github.com/anolte-DSC/Python_for_Earth_Sciences/blob/main/Quickstart_Python_Jupyter/Datasets/Iris.csv'\n",
    "data = pd.read_csv(url)"
   ]
  },
  {
   "cell_type": "markdown",
   "id": "f8ab3668-5a2c-427c-ad8a-d5117daff11d",
   "metadata": {},
   "source": [
    "## 3. Explore the data"
   ]
  },
  {
   "cell_type": "markdown",
   "id": "129f79ef-30f6-42b2-82cd-f445c93a3893",
   "metadata": {},
   "source": [
    "Plot the first 5 rows of the dataset."
   ]
  },
  {
   "cell_type": "code",
   "execution_count": 15,
   "id": "3570ea6b-2238-43f0-81fe-454546a87089",
   "metadata": {},
   "outputs": [
    {
     "data": {
      "text/html": [
       "<div>\n",
       "<style scoped>\n",
       "    .dataframe tbody tr th:only-of-type {\n",
       "        vertical-align: middle;\n",
       "    }\n",
       "\n",
       "    .dataframe tbody tr th {\n",
       "        vertical-align: top;\n",
       "    }\n",
       "\n",
       "    .dataframe thead th {\n",
       "        text-align: right;\n",
       "    }\n",
       "</style>\n",
       "<table border=\"1\" class=\"dataframe\">\n",
       "  <thead>\n",
       "    <tr style=\"text-align: right;\">\n",
       "      <th></th>\n",
       "      <th>Id</th>\n",
       "      <th>SepalLengthCm</th>\n",
       "      <th>SepalWidthCm</th>\n",
       "      <th>PetalLengthCm</th>\n",
       "      <th>PetalWidthCm</th>\n",
       "      <th>Species</th>\n",
       "    </tr>\n",
       "  </thead>\n",
       "  <tbody>\n",
       "    <tr>\n",
       "      <th>0</th>\n",
       "      <td>1</td>\n",
       "      <td>5.1</td>\n",
       "      <td>3.5</td>\n",
       "      <td>1.4</td>\n",
       "      <td>0.2</td>\n",
       "      <td>Iris-setosa</td>\n",
       "    </tr>\n",
       "    <tr>\n",
       "      <th>1</th>\n",
       "      <td>2</td>\n",
       "      <td>4.9</td>\n",
       "      <td>3.0</td>\n",
       "      <td>1.4</td>\n",
       "      <td>0.2</td>\n",
       "      <td>Iris-setosa</td>\n",
       "    </tr>\n",
       "    <tr>\n",
       "      <th>2</th>\n",
       "      <td>3</td>\n",
       "      <td>4.7</td>\n",
       "      <td>3.2</td>\n",
       "      <td>1.3</td>\n",
       "      <td>0.2</td>\n",
       "      <td>Iris-setosa</td>\n",
       "    </tr>\n",
       "    <tr>\n",
       "      <th>3</th>\n",
       "      <td>4</td>\n",
       "      <td>4.6</td>\n",
       "      <td>3.1</td>\n",
       "      <td>1.5</td>\n",
       "      <td>0.2</td>\n",
       "      <td>Iris-setosa</td>\n",
       "    </tr>\n",
       "    <tr>\n",
       "      <th>4</th>\n",
       "      <td>5</td>\n",
       "      <td>5.0</td>\n",
       "      <td>3.6</td>\n",
       "      <td>1.4</td>\n",
       "      <td>0.2</td>\n",
       "      <td>Iris-setosa</td>\n",
       "    </tr>\n",
       "  </tbody>\n",
       "</table>\n",
       "</div>"
      ],
      "text/plain": [
       "   Id  SepalLengthCm  SepalWidthCm  PetalLengthCm  PetalWidthCm      Species\n",
       "0   1            5.1           3.5            1.4           0.2  Iris-setosa\n",
       "1   2            4.9           3.0            1.4           0.2  Iris-setosa\n",
       "2   3            4.7           3.2            1.3           0.2  Iris-setosa\n",
       "3   4            4.6           3.1            1.5           0.2  Iris-setosa\n",
       "4   5            5.0           3.6            1.4           0.2  Iris-setosa"
      ]
     },
     "execution_count": 15,
     "metadata": {},
     "output_type": "execute_result"
    }
   ],
   "source": [
    "data.head(5) # note: indexing starts at 0!"
   ]
  },
  {
   "cell_type": "markdown",
   "id": "1f00f233-d1f1-4034-b231-affb18411d5f",
   "metadata": {},
   "source": [
    "How many samples per species?"
   ]
  },
  {
   "cell_type": "code",
   "execution_count": 17,
   "id": "e6f2e893-3a5b-4d40-8980-beb1107f4ab3",
   "metadata": {},
   "outputs": [
    {
     "data": {
      "text/plain": [
       "Species\n",
       "Iris-setosa        50\n",
       "Iris-versicolor    50\n",
       "Iris-virginica     50\n",
       "Name: count, dtype: int64"
      ]
     },
     "execution_count": 17,
     "metadata": {},
     "output_type": "execute_result"
    }
   ],
   "source": [
    "data['Species'].value_counts()"
   ]
  },
  {
   "cell_type": "markdown",
   "id": "3ce0c976-6b70-4992-9f77-15e6849f8fea",
   "metadata": {},
   "source": [
    "Plot basic statistics of the dataset."
   ]
  },
  {
   "cell_type": "code",
   "execution_count": 19,
   "id": "d89fc221-8157-40d8-8411-8f279caaaea5",
   "metadata": {},
   "outputs": [
    {
     "data": {
      "text/html": [
       "<div>\n",
       "<style scoped>\n",
       "    .dataframe tbody tr th:only-of-type {\n",
       "        vertical-align: middle;\n",
       "    }\n",
       "\n",
       "    .dataframe tbody tr th {\n",
       "        vertical-align: top;\n",
       "    }\n",
       "\n",
       "    .dataframe thead th {\n",
       "        text-align: right;\n",
       "    }\n",
       "</style>\n",
       "<table border=\"1\" class=\"dataframe\">\n",
       "  <thead>\n",
       "    <tr style=\"text-align: right;\">\n",
       "      <th></th>\n",
       "      <th>Id</th>\n",
       "      <th>SepalLengthCm</th>\n",
       "      <th>SepalWidthCm</th>\n",
       "      <th>PetalLengthCm</th>\n",
       "      <th>PetalWidthCm</th>\n",
       "    </tr>\n",
       "  </thead>\n",
       "  <tbody>\n",
       "    <tr>\n",
       "      <th>count</th>\n",
       "      <td>150.000000</td>\n",
       "      <td>150.000000</td>\n",
       "      <td>150.000000</td>\n",
       "      <td>150.000000</td>\n",
       "      <td>150.000000</td>\n",
       "    </tr>\n",
       "    <tr>\n",
       "      <th>mean</th>\n",
       "      <td>75.500000</td>\n",
       "      <td>5.843333</td>\n",
       "      <td>3.054000</td>\n",
       "      <td>3.758667</td>\n",
       "      <td>1.198667</td>\n",
       "    </tr>\n",
       "    <tr>\n",
       "      <th>std</th>\n",
       "      <td>43.445368</td>\n",
       "      <td>0.828066</td>\n",
       "      <td>0.433594</td>\n",
       "      <td>1.764420</td>\n",
       "      <td>0.763161</td>\n",
       "    </tr>\n",
       "    <tr>\n",
       "      <th>min</th>\n",
       "      <td>1.000000</td>\n",
       "      <td>4.300000</td>\n",
       "      <td>2.000000</td>\n",
       "      <td>1.000000</td>\n",
       "      <td>0.100000</td>\n",
       "    </tr>\n",
       "    <tr>\n",
       "      <th>25%</th>\n",
       "      <td>38.250000</td>\n",
       "      <td>5.100000</td>\n",
       "      <td>2.800000</td>\n",
       "      <td>1.600000</td>\n",
       "      <td>0.300000</td>\n",
       "    </tr>\n",
       "    <tr>\n",
       "      <th>50%</th>\n",
       "      <td>75.500000</td>\n",
       "      <td>5.800000</td>\n",
       "      <td>3.000000</td>\n",
       "      <td>4.350000</td>\n",
       "      <td>1.300000</td>\n",
       "    </tr>\n",
       "    <tr>\n",
       "      <th>75%</th>\n",
       "      <td>112.750000</td>\n",
       "      <td>6.400000</td>\n",
       "      <td>3.300000</td>\n",
       "      <td>5.100000</td>\n",
       "      <td>1.800000</td>\n",
       "    </tr>\n",
       "    <tr>\n",
       "      <th>max</th>\n",
       "      <td>150.000000</td>\n",
       "      <td>7.900000</td>\n",
       "      <td>4.400000</td>\n",
       "      <td>6.900000</td>\n",
       "      <td>2.500000</td>\n",
       "    </tr>\n",
       "  </tbody>\n",
       "</table>\n",
       "</div>"
      ],
      "text/plain": [
       "               Id  SepalLengthCm  SepalWidthCm  PetalLengthCm  PetalWidthCm\n",
       "count  150.000000     150.000000    150.000000     150.000000    150.000000\n",
       "mean    75.500000       5.843333      3.054000       3.758667      1.198667\n",
       "std     43.445368       0.828066      0.433594       1.764420      0.763161\n",
       "min      1.000000       4.300000      2.000000       1.000000      0.100000\n",
       "25%     38.250000       5.100000      2.800000       1.600000      0.300000\n",
       "50%     75.500000       5.800000      3.000000       4.350000      1.300000\n",
       "75%    112.750000       6.400000      3.300000       5.100000      1.800000\n",
       "max    150.000000       7.900000      4.400000       6.900000      2.500000"
      ]
     },
     "execution_count": 19,
     "metadata": {},
     "output_type": "execute_result"
    }
   ],
   "source": [
    "data.describe()"
   ]
  },
  {
   "cell_type": "markdown",
   "id": "6a24a588-d54a-461e-8b16-d7a31afccde5",
   "metadata": {},
   "source": [
    "## 4. Data manipulation"
   ]
  },
  {
   "cell_type": "markdown",
   "id": "3412ff03-59e5-4f65-aa8b-76ffa492095d",
   "metadata": {},
   "source": [
    "Check for missing values."
   ]
  },
  {
   "cell_type": "code",
   "execution_count": 21,
   "id": "b1795955-945b-4221-a2fc-2effadc2cff6",
   "metadata": {},
   "outputs": [
    {
     "data": {
      "text/plain": [
       "Id               0\n",
       "SepalLengthCm    0\n",
       "SepalWidthCm     0\n",
       "PetalLengthCm    0\n",
       "PetalWidthCm     0\n",
       "Species          0\n",
       "dtype: int64"
      ]
     },
     "execution_count": 21,
     "metadata": {},
     "output_type": "execute_result"
    }
   ],
   "source": [
    "data.isnull().sum()"
   ]
  },
  {
   "cell_type": "markdown",
   "id": "91df6cfc-f73b-4222-b59c-d95eee65d98f",
   "metadata": {},
   "source": [
    "Create a new feature as a function of other features."
   ]
  },
  {
   "cell_type": "code",
   "execution_count": 46,
   "id": "16f778d4-cf0f-4533-b5e6-6543cf79fea6",
   "metadata": {},
   "outputs": [
    {
     "data": {
      "text/html": [
       "<div>\n",
       "<style scoped>\n",
       "    .dataframe tbody tr th:only-of-type {\n",
       "        vertical-align: middle;\n",
       "    }\n",
       "\n",
       "    .dataframe tbody tr th {\n",
       "        vertical-align: top;\n",
       "    }\n",
       "\n",
       "    .dataframe thead th {\n",
       "        text-align: right;\n",
       "    }\n",
       "</style>\n",
       "<table border=\"1\" class=\"dataframe\">\n",
       "  <thead>\n",
       "    <tr style=\"text-align: right;\">\n",
       "      <th></th>\n",
       "      <th>Id</th>\n",
       "      <th>SepalLengthCm</th>\n",
       "      <th>SepalWidthCm</th>\n",
       "      <th>PetalLengthCm</th>\n",
       "      <th>PetalWidthCm</th>\n",
       "      <th>Species</th>\n",
       "      <th>PetalAreaCm2</th>\n",
       "    </tr>\n",
       "  </thead>\n",
       "  <tbody>\n",
       "    <tr>\n",
       "      <th>0</th>\n",
       "      <td>1</td>\n",
       "      <td>5.1</td>\n",
       "      <td>3.5</td>\n",
       "      <td>1.4</td>\n",
       "      <td>0.2</td>\n",
       "      <td>Iris-setosa</td>\n",
       "      <td>0.28</td>\n",
       "    </tr>\n",
       "    <tr>\n",
       "      <th>1</th>\n",
       "      <td>2</td>\n",
       "      <td>4.9</td>\n",
       "      <td>3.0</td>\n",
       "      <td>1.4</td>\n",
       "      <td>0.2</td>\n",
       "      <td>Iris-setosa</td>\n",
       "      <td>0.28</td>\n",
       "    </tr>\n",
       "    <tr>\n",
       "      <th>2</th>\n",
       "      <td>3</td>\n",
       "      <td>4.7</td>\n",
       "      <td>3.2</td>\n",
       "      <td>1.3</td>\n",
       "      <td>0.2</td>\n",
       "      <td>Iris-setosa</td>\n",
       "      <td>0.26</td>\n",
       "    </tr>\n",
       "    <tr>\n",
       "      <th>3</th>\n",
       "      <td>4</td>\n",
       "      <td>4.6</td>\n",
       "      <td>3.1</td>\n",
       "      <td>1.5</td>\n",
       "      <td>0.2</td>\n",
       "      <td>Iris-setosa</td>\n",
       "      <td>0.30</td>\n",
       "    </tr>\n",
       "    <tr>\n",
       "      <th>4</th>\n",
       "      <td>5</td>\n",
       "      <td>5.0</td>\n",
       "      <td>3.6</td>\n",
       "      <td>1.4</td>\n",
       "      <td>0.2</td>\n",
       "      <td>Iris-setosa</td>\n",
       "      <td>0.28</td>\n",
       "    </tr>\n",
       "  </tbody>\n",
       "</table>\n",
       "</div>"
      ],
      "text/plain": [
       "   Id  SepalLengthCm  SepalWidthCm  PetalLengthCm  PetalWidthCm      Species  \\\n",
       "0   1            5.1           3.5            1.4           0.2  Iris-setosa   \n",
       "1   2            4.9           3.0            1.4           0.2  Iris-setosa   \n",
       "2   3            4.7           3.2            1.3           0.2  Iris-setosa   \n",
       "3   4            4.6           3.1            1.5           0.2  Iris-setosa   \n",
       "4   5            5.0           3.6            1.4           0.2  Iris-setosa   \n",
       "\n",
       "   PetalAreaCm2  \n",
       "0          0.28  \n",
       "1          0.28  \n",
       "2          0.26  \n",
       "3          0.30  \n",
       "4          0.28  "
      ]
     },
     "execution_count": 46,
     "metadata": {},
     "output_type": "execute_result"
    }
   ],
   "source": [
    "data['PetalAreaCm2'] = data['PetalLengthCm'] * data['PetalWidthCm'] \n",
    "data.head(5)"
   ]
  },
  {
   "cell_type": "markdown",
   "id": "da9b2039-023d-49dd-a70e-278b135489b4",
   "metadata": {},
   "source": [
    "## 5. Data analysis with NumPy"
   ]
  },
  {
   "cell_type": "markdown",
   "id": "03c48024-2474-4124-a36e-e8281dbfbe76",
   "metadata": {},
   "source": [
    "Convert DataFrame to NumPy array."
   ]
  },
  {
   "cell_type": "code",
   "execution_count": 56,
   "id": "00e79485-6d9d-4afb-bc7a-c7d39586fabd",
   "metadata": {},
   "outputs": [
    {
     "name": "stdout",
     "output_type": "stream",
     "text": [
      "Species to integer mapping: {0: 'Iris-setosa', 1: 'Iris-versicolor', 2: 'Iris-virginica'}\n"
     ]
    },
    {
     "data": {
      "text/plain": [
       "array([[ 5.1 ,  3.5 ,  1.4 ,  0.2 ,  0.  ,  0.28],\n",
       "       [ 4.9 ,  3.  ,  1.4 ,  0.2 ,  0.  ,  0.28],\n",
       "       [ 4.7 ,  3.2 ,  1.3 ,  0.2 ,  0.  ,  0.26],\n",
       "       [ 4.6 ,  3.1 ,  1.5 ,  0.2 ,  0.  ,  0.3 ],\n",
       "       [ 5.  ,  3.6 ,  1.4 ,  0.2 ,  0.  ,  0.28],\n",
       "       [ 5.4 ,  3.9 ,  1.7 ,  0.4 ,  0.  ,  0.68],\n",
       "       [ 4.6 ,  3.4 ,  1.4 ,  0.3 ,  0.  ,  0.42],\n",
       "       [ 5.  ,  3.4 ,  1.5 ,  0.2 ,  0.  ,  0.3 ],\n",
       "       [ 4.4 ,  2.9 ,  1.4 ,  0.2 ,  0.  ,  0.28],\n",
       "       [ 4.9 ,  3.1 ,  1.5 ,  0.1 ,  0.  ,  0.15],\n",
       "       [ 5.4 ,  3.7 ,  1.5 ,  0.2 ,  0.  ,  0.3 ],\n",
       "       [ 4.8 ,  3.4 ,  1.6 ,  0.2 ,  0.  ,  0.32],\n",
       "       [ 4.8 ,  3.  ,  1.4 ,  0.1 ,  0.  ,  0.14],\n",
       "       [ 4.3 ,  3.  ,  1.1 ,  0.1 ,  0.  ,  0.11],\n",
       "       [ 5.8 ,  4.  ,  1.2 ,  0.2 ,  0.  ,  0.24],\n",
       "       [ 5.7 ,  4.4 ,  1.5 ,  0.4 ,  0.  ,  0.6 ],\n",
       "       [ 5.4 ,  3.9 ,  1.3 ,  0.4 ,  0.  ,  0.52],\n",
       "       [ 5.1 ,  3.5 ,  1.4 ,  0.3 ,  0.  ,  0.42],\n",
       "       [ 5.7 ,  3.8 ,  1.7 ,  0.3 ,  0.  ,  0.51],\n",
       "       [ 5.1 ,  3.8 ,  1.5 ,  0.3 ,  0.  ,  0.45],\n",
       "       [ 5.4 ,  3.4 ,  1.7 ,  0.2 ,  0.  ,  0.34],\n",
       "       [ 5.1 ,  3.7 ,  1.5 ,  0.4 ,  0.  ,  0.6 ],\n",
       "       [ 4.6 ,  3.6 ,  1.  ,  0.2 ,  0.  ,  0.2 ],\n",
       "       [ 5.1 ,  3.3 ,  1.7 ,  0.5 ,  0.  ,  0.85],\n",
       "       [ 4.8 ,  3.4 ,  1.9 ,  0.2 ,  0.  ,  0.38],\n",
       "       [ 5.  ,  3.  ,  1.6 ,  0.2 ,  0.  ,  0.32],\n",
       "       [ 5.  ,  3.4 ,  1.6 ,  0.4 ,  0.  ,  0.64],\n",
       "       [ 5.2 ,  3.5 ,  1.5 ,  0.2 ,  0.  ,  0.3 ],\n",
       "       [ 5.2 ,  3.4 ,  1.4 ,  0.2 ,  0.  ,  0.28],\n",
       "       [ 4.7 ,  3.2 ,  1.6 ,  0.2 ,  0.  ,  0.32],\n",
       "       [ 4.8 ,  3.1 ,  1.6 ,  0.2 ,  0.  ,  0.32],\n",
       "       [ 5.4 ,  3.4 ,  1.5 ,  0.4 ,  0.  ,  0.6 ],\n",
       "       [ 5.2 ,  4.1 ,  1.5 ,  0.1 ,  0.  ,  0.15],\n",
       "       [ 5.5 ,  4.2 ,  1.4 ,  0.2 ,  0.  ,  0.28],\n",
       "       [ 4.9 ,  3.1 ,  1.5 ,  0.1 ,  0.  ,  0.15],\n",
       "       [ 5.  ,  3.2 ,  1.2 ,  0.2 ,  0.  ,  0.24],\n",
       "       [ 5.5 ,  3.5 ,  1.3 ,  0.2 ,  0.  ,  0.26],\n",
       "       [ 4.9 ,  3.1 ,  1.5 ,  0.1 ,  0.  ,  0.15],\n",
       "       [ 4.4 ,  3.  ,  1.3 ,  0.2 ,  0.  ,  0.26],\n",
       "       [ 5.1 ,  3.4 ,  1.5 ,  0.2 ,  0.  ,  0.3 ],\n",
       "       [ 5.  ,  3.5 ,  1.3 ,  0.3 ,  0.  ,  0.39],\n",
       "       [ 4.5 ,  2.3 ,  1.3 ,  0.3 ,  0.  ,  0.39],\n",
       "       [ 4.4 ,  3.2 ,  1.3 ,  0.2 ,  0.  ,  0.26],\n",
       "       [ 5.  ,  3.5 ,  1.6 ,  0.6 ,  0.  ,  0.96],\n",
       "       [ 5.1 ,  3.8 ,  1.9 ,  0.4 ,  0.  ,  0.76],\n",
       "       [ 4.8 ,  3.  ,  1.4 ,  0.3 ,  0.  ,  0.42],\n",
       "       [ 5.1 ,  3.8 ,  1.6 ,  0.2 ,  0.  ,  0.32],\n",
       "       [ 4.6 ,  3.2 ,  1.4 ,  0.2 ,  0.  ,  0.28],\n",
       "       [ 5.3 ,  3.7 ,  1.5 ,  0.2 ,  0.  ,  0.3 ],\n",
       "       [ 5.  ,  3.3 ,  1.4 ,  0.2 ,  0.  ,  0.28],\n",
       "       [ 7.  ,  3.2 ,  4.7 ,  1.4 ,  1.  ,  6.58],\n",
       "       [ 6.4 ,  3.2 ,  4.5 ,  1.5 ,  1.  ,  6.75],\n",
       "       [ 6.9 ,  3.1 ,  4.9 ,  1.5 ,  1.  ,  7.35],\n",
       "       [ 5.5 ,  2.3 ,  4.  ,  1.3 ,  1.  ,  5.2 ],\n",
       "       [ 6.5 ,  2.8 ,  4.6 ,  1.5 ,  1.  ,  6.9 ],\n",
       "       [ 5.7 ,  2.8 ,  4.5 ,  1.3 ,  1.  ,  5.85],\n",
       "       [ 6.3 ,  3.3 ,  4.7 ,  1.6 ,  1.  ,  7.52],\n",
       "       [ 4.9 ,  2.4 ,  3.3 ,  1.  ,  1.  ,  3.3 ],\n",
       "       [ 6.6 ,  2.9 ,  4.6 ,  1.3 ,  1.  ,  5.98],\n",
       "       [ 5.2 ,  2.7 ,  3.9 ,  1.4 ,  1.  ,  5.46],\n",
       "       [ 5.  ,  2.  ,  3.5 ,  1.  ,  1.  ,  3.5 ],\n",
       "       [ 5.9 ,  3.  ,  4.2 ,  1.5 ,  1.  ,  6.3 ],\n",
       "       [ 6.  ,  2.2 ,  4.  ,  1.  ,  1.  ,  4.  ],\n",
       "       [ 6.1 ,  2.9 ,  4.7 ,  1.4 ,  1.  ,  6.58],\n",
       "       [ 5.6 ,  2.9 ,  3.6 ,  1.3 ,  1.  ,  4.68],\n",
       "       [ 6.7 ,  3.1 ,  4.4 ,  1.4 ,  1.  ,  6.16],\n",
       "       [ 5.6 ,  3.  ,  4.5 ,  1.5 ,  1.  ,  6.75],\n",
       "       [ 5.8 ,  2.7 ,  4.1 ,  1.  ,  1.  ,  4.1 ],\n",
       "       [ 6.2 ,  2.2 ,  4.5 ,  1.5 ,  1.  ,  6.75],\n",
       "       [ 5.6 ,  2.5 ,  3.9 ,  1.1 ,  1.  ,  4.29],\n",
       "       [ 5.9 ,  3.2 ,  4.8 ,  1.8 ,  1.  ,  8.64],\n",
       "       [ 6.1 ,  2.8 ,  4.  ,  1.3 ,  1.  ,  5.2 ],\n",
       "       [ 6.3 ,  2.5 ,  4.9 ,  1.5 ,  1.  ,  7.35],\n",
       "       [ 6.1 ,  2.8 ,  4.7 ,  1.2 ,  1.  ,  5.64],\n",
       "       [ 6.4 ,  2.9 ,  4.3 ,  1.3 ,  1.  ,  5.59],\n",
       "       [ 6.6 ,  3.  ,  4.4 ,  1.4 ,  1.  ,  6.16],\n",
       "       [ 6.8 ,  2.8 ,  4.8 ,  1.4 ,  1.  ,  6.72],\n",
       "       [ 6.7 ,  3.  ,  5.  ,  1.7 ,  1.  ,  8.5 ],\n",
       "       [ 6.  ,  2.9 ,  4.5 ,  1.5 ,  1.  ,  6.75],\n",
       "       [ 5.7 ,  2.6 ,  3.5 ,  1.  ,  1.  ,  3.5 ],\n",
       "       [ 5.5 ,  2.4 ,  3.8 ,  1.1 ,  1.  ,  4.18],\n",
       "       [ 5.5 ,  2.4 ,  3.7 ,  1.  ,  1.  ,  3.7 ],\n",
       "       [ 5.8 ,  2.7 ,  3.9 ,  1.2 ,  1.  ,  4.68],\n",
       "       [ 6.  ,  2.7 ,  5.1 ,  1.6 ,  1.  ,  8.16],\n",
       "       [ 5.4 ,  3.  ,  4.5 ,  1.5 ,  1.  ,  6.75],\n",
       "       [ 6.  ,  3.4 ,  4.5 ,  1.6 ,  1.  ,  7.2 ],\n",
       "       [ 6.7 ,  3.1 ,  4.7 ,  1.5 ,  1.  ,  7.05],\n",
       "       [ 6.3 ,  2.3 ,  4.4 ,  1.3 ,  1.  ,  5.72],\n",
       "       [ 5.6 ,  3.  ,  4.1 ,  1.3 ,  1.  ,  5.33],\n",
       "       [ 5.5 ,  2.5 ,  4.  ,  1.3 ,  1.  ,  5.2 ],\n",
       "       [ 5.5 ,  2.6 ,  4.4 ,  1.2 ,  1.  ,  5.28],\n",
       "       [ 6.1 ,  3.  ,  4.6 ,  1.4 ,  1.  ,  6.44],\n",
       "       [ 5.8 ,  2.6 ,  4.  ,  1.2 ,  1.  ,  4.8 ],\n",
       "       [ 5.  ,  2.3 ,  3.3 ,  1.  ,  1.  ,  3.3 ],\n",
       "       [ 5.6 ,  2.7 ,  4.2 ,  1.3 ,  1.  ,  5.46],\n",
       "       [ 5.7 ,  3.  ,  4.2 ,  1.2 ,  1.  ,  5.04],\n",
       "       [ 5.7 ,  2.9 ,  4.2 ,  1.3 ,  1.  ,  5.46],\n",
       "       [ 6.2 ,  2.9 ,  4.3 ,  1.3 ,  1.  ,  5.59],\n",
       "       [ 5.1 ,  2.5 ,  3.  ,  1.1 ,  1.  ,  3.3 ],\n",
       "       [ 5.7 ,  2.8 ,  4.1 ,  1.3 ,  1.  ,  5.33],\n",
       "       [ 6.3 ,  3.3 ,  6.  ,  2.5 ,  2.  , 15.  ],\n",
       "       [ 5.8 ,  2.7 ,  5.1 ,  1.9 ,  2.  ,  9.69],\n",
       "       [ 7.1 ,  3.  ,  5.9 ,  2.1 ,  2.  , 12.39],\n",
       "       [ 6.3 ,  2.9 ,  5.6 ,  1.8 ,  2.  , 10.08],\n",
       "       [ 6.5 ,  3.  ,  5.8 ,  2.2 ,  2.  , 12.76],\n",
       "       [ 7.6 ,  3.  ,  6.6 ,  2.1 ,  2.  , 13.86],\n",
       "       [ 4.9 ,  2.5 ,  4.5 ,  1.7 ,  2.  ,  7.65],\n",
       "       [ 7.3 ,  2.9 ,  6.3 ,  1.8 ,  2.  , 11.34],\n",
       "       [ 6.7 ,  2.5 ,  5.8 ,  1.8 ,  2.  , 10.44],\n",
       "       [ 7.2 ,  3.6 ,  6.1 ,  2.5 ,  2.  , 15.25],\n",
       "       [ 6.5 ,  3.2 ,  5.1 ,  2.  ,  2.  , 10.2 ],\n",
       "       [ 6.4 ,  2.7 ,  5.3 ,  1.9 ,  2.  , 10.07],\n",
       "       [ 6.8 ,  3.  ,  5.5 ,  2.1 ,  2.  , 11.55],\n",
       "       [ 5.7 ,  2.5 ,  5.  ,  2.  ,  2.  , 10.  ],\n",
       "       [ 5.8 ,  2.8 ,  5.1 ,  2.4 ,  2.  , 12.24],\n",
       "       [ 6.4 ,  3.2 ,  5.3 ,  2.3 ,  2.  , 12.19],\n",
       "       [ 6.5 ,  3.  ,  5.5 ,  1.8 ,  2.  ,  9.9 ],\n",
       "       [ 7.7 ,  3.8 ,  6.7 ,  2.2 ,  2.  , 14.74],\n",
       "       [ 7.7 ,  2.6 ,  6.9 ,  2.3 ,  2.  , 15.87],\n",
       "       [ 6.  ,  2.2 ,  5.  ,  1.5 ,  2.  ,  7.5 ],\n",
       "       [ 6.9 ,  3.2 ,  5.7 ,  2.3 ,  2.  , 13.11],\n",
       "       [ 5.6 ,  2.8 ,  4.9 ,  2.  ,  2.  ,  9.8 ],\n",
       "       [ 7.7 ,  2.8 ,  6.7 ,  2.  ,  2.  , 13.4 ],\n",
       "       [ 6.3 ,  2.7 ,  4.9 ,  1.8 ,  2.  ,  8.82],\n",
       "       [ 6.7 ,  3.3 ,  5.7 ,  2.1 ,  2.  , 11.97],\n",
       "       [ 7.2 ,  3.2 ,  6.  ,  1.8 ,  2.  , 10.8 ],\n",
       "       [ 6.2 ,  2.8 ,  4.8 ,  1.8 ,  2.  ,  8.64],\n",
       "       [ 6.1 ,  3.  ,  4.9 ,  1.8 ,  2.  ,  8.82],\n",
       "       [ 6.4 ,  2.8 ,  5.6 ,  2.1 ,  2.  , 11.76],\n",
       "       [ 7.2 ,  3.  ,  5.8 ,  1.6 ,  2.  ,  9.28],\n",
       "       [ 7.4 ,  2.8 ,  6.1 ,  1.9 ,  2.  , 11.59],\n",
       "       [ 7.9 ,  3.8 ,  6.4 ,  2.  ,  2.  , 12.8 ],\n",
       "       [ 6.4 ,  2.8 ,  5.6 ,  2.2 ,  2.  , 12.32],\n",
       "       [ 6.3 ,  2.8 ,  5.1 ,  1.5 ,  2.  ,  7.65],\n",
       "       [ 6.1 ,  2.6 ,  5.6 ,  1.4 ,  2.  ,  7.84],\n",
       "       [ 7.7 ,  3.  ,  6.1 ,  2.3 ,  2.  , 14.03],\n",
       "       [ 6.3 ,  3.4 ,  5.6 ,  2.4 ,  2.  , 13.44],\n",
       "       [ 6.4 ,  3.1 ,  5.5 ,  1.8 ,  2.  ,  9.9 ],\n",
       "       [ 6.  ,  3.  ,  4.8 ,  1.8 ,  2.  ,  8.64],\n",
       "       [ 6.9 ,  3.1 ,  5.4 ,  2.1 ,  2.  , 11.34],\n",
       "       [ 6.7 ,  3.1 ,  5.6 ,  2.4 ,  2.  , 13.44],\n",
       "       [ 6.9 ,  3.1 ,  5.1 ,  2.3 ,  2.  , 11.73],\n",
       "       [ 5.8 ,  2.7 ,  5.1 ,  1.9 ,  2.  ,  9.69],\n",
       "       [ 6.8 ,  3.2 ,  5.9 ,  2.3 ,  2.  , 13.57],\n",
       "       [ 6.7 ,  3.3 ,  5.7 ,  2.5 ,  2.  , 14.25],\n",
       "       [ 6.7 ,  3.  ,  5.2 ,  2.3 ,  2.  , 11.96],\n",
       "       [ 6.3 ,  2.5 ,  5.  ,  1.9 ,  2.  ,  9.5 ],\n",
       "       [ 6.5 ,  3.  ,  5.2 ,  2.  ,  2.  , 10.4 ],\n",
       "       [ 6.2 ,  3.4 ,  5.4 ,  2.3 ,  2.  , 12.42],\n",
       "       [ 5.9 ,  3.  ,  5.1 ,  1.8 ,  2.  ,  9.18]])"
      ]
     },
     "execution_count": 56,
     "metadata": {},
     "output_type": "execute_result"
    }
   ],
   "source": [
    "# Factorize the species column to convert it into integers:\n",
    "data_int = data.copy()\n",
    "data_int['Species'], unique_species = pd.factorize(data['Species'])\n",
    "species_mapping = dict(enumerate(unique_species)) # mapping of species to integers\n",
    "print(\"Species to integer mapping:\", species_mapping)\n",
    "# Receive NumPy aray from DataFrame\n",
    "data_array = data_int.iloc[:, 1:].values\n",
    "data_array"
   ]
  },
  {
   "cell_type": "markdown",
   "id": "8b0ee058-5410-4f1e-b13e-f1db980f4eb5",
   "metadata": {},
   "source": [
    "Similar calculations possible with NumPy & Pandas: "
   ]
  },
  {
   "cell_type": "code",
   "execution_count": 57,
   "id": "c4202d6c-94a1-4159-b08f-9dd807ec0ec7",
   "metadata": {},
   "outputs": [
    {
     "name": "stdout",
     "output_type": "stream",
     "text": [
      "Species and their counts: {0.0: 50, 1.0: 50, 2.0: 50}\n"
     ]
    }
   ],
   "source": [
    "species = data_array[:, -2]  # select the column with the species\n",
    "unique_species, counts = np.unique(species, return_counts=True)\n",
    "print(\"Species and their counts:\", dict(zip(unique_species, counts)))"
   ]
  },
  {
   "cell_type": "markdown",
   "id": "1fbf27ca-2b92-45ec-a518-3ba655f03c6e",
   "metadata": {},
   "source": [
    "Compute mean and standard deviation for each feature."
   ]
  },
  {
   "cell_type": "code",
   "execution_count": 58,
   "id": "85d7bd76-ff98-4869-9f91-29e1ce87adf7",
   "metadata": {
    "scrolled": true
   },
   "outputs": [
    {
     "name": "stdout",
     "output_type": "stream",
     "text": [
      "Mean of each feature: [5.84 3.05 3.76 1.2  1.   5.79]\n",
      "Standard deviation of each feature: [0.83 0.43 1.76 0.76 0.82 4.7 ]\n"
     ]
    }
   ],
   "source": [
    "mean_values = np.mean(data_array, axis=0)\n",
    "std_deviation = np.std(data_array, axis=0)\n",
    "mean_values = mean_values.round(2)\n",
    "std_deviation = std_deviation.round(2)\n",
    "print(\"Mean of each feature:\", mean_values)\n",
    "print(\"Standard deviation of each feature:\", std_deviation)"
   ]
  },
  {
   "cell_type": "markdown",
   "id": "5d0e2269-e4cf-4ef9-a6c5-c9182da427cc",
   "metadata": {},
   "source": [
    "Calculate Pearson correlation with continuous numerical variables."
   ]
  },
  {
   "cell_type": "code",
   "execution_count": 60,
   "id": "8a68bf78-333b-4cc2-970d-75c4d94e5975",
   "metadata": {},
   "outputs": [
    {
     "name": "stdout",
     "output_type": "stream",
     "text": [
      "Correlation matrix:\n",
      " [[ 1.         -0.10936925  0.87175416  0.81795363  0.78256123  0.85732586]\n",
      " [-0.10936925  1.         -0.4205161  -0.35654409 -0.4194462  -0.28061173]\n",
      " [ 0.87175416 -0.4205161   1.          0.9627571   0.94904254  0.95847224]\n",
      " [ 0.81795363 -0.35654409  0.9627571   1.          0.95646382  0.98022894]\n",
      " [ 0.78256123 -0.4194462   0.94904254  0.95646382  1.          0.95014238]\n",
      " [ 0.85732586 -0.28061173  0.95847224  0.98022894  0.95014238  1.        ]]\n"
     ]
    }
   ],
   "source": [
    "correlation_matrix = np.corrcoef(data_array.T)  # Transpose due to expectation for the input format: variables (features) as rows, observations as columns\n",
    "print(\"Correlation matrix:\\n\", correlation_matrix)"
   ]
  },
  {
   "cell_type": "markdown",
   "id": "11492773-7cfa-4beb-a490-300c82cd70f6",
   "metadata": {},
   "source": [
    "Select data."
   ]
  },
  {
   "cell_type": "code",
   "execution_count": 69,
   "id": "8995239a-0063-4b03-ad7f-cd461fc5f0c4",
   "metadata": {},
   "outputs": [
    {
     "name": "stdout",
     "output_type": "stream",
     "text": [
      "Full data sample size: 900\n",
      "Filtered data sample size: 600\n"
     ]
    }
   ],
   "source": [
    "filtered_data = data_array[data_array[:, 2] > 2.0] # Example: Filter data where petal length (third column) is greater than 2.0 cm\n",
    "print('Full data sample size:', data_array.size)\n",
    "print('Filtered data sample size:', filtered_data.size)"
   ]
  }
 ],
 "metadata": {
  "kernelspec": {
   "display_name": "Python 3 (ipykernel)",
   "language": "python",
   "name": "python3"
  },
  "language_info": {
   "codemirror_mode": {
    "name": "ipython",
    "version": 3
   },
   "file_extension": ".py",
   "mimetype": "text/x-python",
   "name": "python",
   "nbconvert_exporter": "python",
   "pygments_lexer": "ipython3",
   "version": "3.11.9"
  }
 },
 "nbformat": 4,
 "nbformat_minor": 5
}
