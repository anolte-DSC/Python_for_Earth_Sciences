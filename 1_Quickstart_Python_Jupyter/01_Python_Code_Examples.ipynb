{
 "cells": [
  {
   "cell_type": "markdown",
   "id": "de6e66bb-da97-40c0-a582-1a39ffb2a630",
   "metadata": {},
   "source": [
    "# What Python code looks like"
   ]
  },
  {
   "cell_type": "markdown",
   "id": "704e582f-73fb-446c-85c7-25bf85c611e7",
   "metadata": {},
   "source": [
    "## 1. Variables and data types"
   ]
  },
  {
   "cell_type": "code",
   "execution_count": 1,
   "id": "ab8f6cab-18f2-4674-a145-4d834acee282",
   "metadata": {},
   "outputs": [
    {
     "name": "stdout",
     "output_type": "stream",
     "text": [
      "10 3.14 Hello, Python!\n"
     ]
    }
   ],
   "source": [
    "my_integer = 10\n",
    "my_float = 3.14\n",
    "my_string = 'Hello, Python!'\n",
    "print(my_integer, my_float, my_string)"
   ]
  },
  {
   "cell_type": "markdown",
   "id": "e89ce2a5-0c49-415c-b6a2-008d271a3298",
   "metadata": {},
   "source": [
    "## 2. Basic operations"
   ]
  },
  {
   "cell_type": "code",
   "execution_count": 2,
   "id": "b0dc5477-2faa-4840-b80b-b6b144357376",
   "metadata": {},
   "outputs": [
    {
     "name": "stdout",
     "output_type": "stream",
     "text": [
      "Sum: 15 Product: 6.28 Concatenation: Hello, Python! Hello, world!\n"
     ]
    }
   ],
   "source": [
    "sum_result = my_integer + 5\n",
    "product_result = my_float * 2\n",
    "string_result = my_string + ' Hello, world!'\n",
    "print('Sum:', sum_result, 'Product:', product_result, 'Concatenation:', string_result)"
   ]
  },
  {
   "cell_type": "markdown",
   "id": "b180058e-75c9-4fc7-bb9c-420f94a43e6e",
   "metadata": {},
   "source": [
    "## 3. if conditionals"
   ]
  },
  {
   "cell_type": "code",
   "execution_count": 3,
   "id": "e95df8a0-3398-47f4-bae8-5dbedb3c419b",
   "metadata": {},
   "outputs": [
    {
     "name": "stdout",
     "output_type": "stream",
     "text": [
      "my_integer is greater than 5\n"
     ]
    }
   ],
   "source": [
    "if my_integer > 5:\n",
    "    print('my_integer is greater than 5')\n",
    "else:\n",
    "    print('my_integer is less than or equal to 5')"
   ]
  },
  {
   "cell_type": "markdown",
   "id": "cffc9b56-83d8-4ef1-ab58-386a7ced995a",
   "metadata": {},
   "source": [
    "## 4. for loops"
   ]
  },
  {
   "cell_type": "code",
   "execution_count": 4,
   "id": "fe18f617-608e-432b-a9a5-9bc61c2d7c47",
   "metadata": {},
   "outputs": [
    {
     "name": "stdout",
     "output_type": "stream",
     "text": [
      "Counting from 1 to 3:\n",
      "1\n",
      "2\n",
      "3\n"
     ]
    }
   ],
   "source": [
    "print('Counting from 1 to 3:')\n",
    "for i in range(1, 4):\n",
    "    print(i)"
   ]
  },
  {
   "cell_type": "markdown",
   "id": "ba069384-01a4-4f2e-ac72-fa641056575c",
   "metadata": {},
   "source": [
    "## 5. Functions"
   ]
  },
  {
   "cell_type": "code",
   "execution_count": 8,
   "id": "1830baf8-c958-4616-8461-91208d2c901f",
   "metadata": {},
   "outputs": [],
   "source": [
    "# Define function:\n",
    "def greet(name):\n",
    "    return f\"Hello, {name}!\""
   ]
  },
  {
   "cell_type": "code",
   "execution_count": 7,
   "id": "e22f619e-72bd-4e27-8a17-7f87a0195b55",
   "metadata": {},
   "outputs": [
    {
     "name": "stdout",
     "output_type": "stream",
     "text": [
      "Hello, Ana!\n",
      "Hello, Alex!\n"
     ]
    }
   ],
   "source": [
    "# Run function:\n",
    "print(greet('Ana'))\n",
    "print(greet('Alex'))"
   ]
  },
  {
   "cell_type": "markdown",
   "id": "65a6a840-3c2d-4884-8c01-7a46cdacafdd",
   "metadata": {},
   "source": [
    "## 6. Lists and list comprehensions"
   ]
  },
  {
   "cell_type": "code",
   "execution_count": 9,
   "id": "c1ab81f1-08b9-4cd7-99a1-87c05b8b27f7",
   "metadata": {},
   "outputs": [
    {
     "name": "stdout",
     "output_type": "stream",
     "text": [
      "Squares of numbers from 1 to 5: [1, 4, 9, 16, 25]\n"
     ]
    }
   ],
   "source": [
    "squares = [x * x for x in range(1, 6)]\n",
    "print('Squares of numbers from 1 to 5:', squares)"
   ]
  },
  {
   "cell_type": "code",
   "execution_count": null,
   "id": "eae1853b-84ec-4b21-89f6-f36e7a4bafe7",
   "metadata": {},
   "outputs": [],
   "source": []
  }
 ],
 "metadata": {
  "kernelspec": {
   "display_name": "Python 3 (ipykernel)",
   "language": "python",
   "name": "python3"
  },
  "language_info": {
   "codemirror_mode": {
    "name": "ipython",
    "version": 3
   },
   "file_extension": ".py",
   "mimetype": "text/x-python",
   "name": "python",
   "nbconvert_exporter": "python",
   "pygments_lexer": "ipython3",
   "version": "3.11.9"
  }
 },
 "nbformat": 4,
 "nbformat_minor": 5
}
