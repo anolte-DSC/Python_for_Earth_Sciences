{
 "cells": [
  {
   "attachments": {},
   "cell_type": "markdown",
   "id": "563b3a3c-bf69-4c1b-adf8-20591ced862c",
   "metadata": {},
   "source": [
    "# Introduction to NumPy & Pandas - Iris dataset\n",
    "![Iris](Pictures/iris-machinelearning.png)\n",
    "Figure from: https://www.datacamp.com/tutorial/machine-learning-in-r"
   ]
  },
  {
   "cell_type": "markdown",
   "id": "df641402-07bf-4f03-9f73-99bbc872aa8a",
   "metadata": {},
   "source": [
    "## 1. Import packages"
   ]
  },
  {
   "cell_type": "code",
   "execution_count": null,
   "id": "bfa36c8e-8bde-48da-b531-b3fb7e450643",
   "metadata": {},
   "outputs": [],
   "source": [
    "import numpy as np\n",
    "import pandas as pd"
   ]
  },
  {
   "cell_type": "markdown",
   "id": "5ab8e057-dadd-418d-b71c-3d2941555516",
   "metadata": {},
   "source": [
    "## 2. Import Iris dataset using Pandas"
   ]
  },
  {
   "cell_type": "markdown",
   "id": "957b6732-b01e-400c-a0ad-130cbec81d15",
   "metadata": {},
   "source": [
    "Import the Iris dataset into a Pandas DataFrame. Pandas can handle a wide variety of data formats and types and it is generally used to import tabular data."
   ]
  },
  {
   "cell_type": "code",
   "execution_count": null,
   "id": "a4e6a252-3c29-45d3-9298-3c1e1ffa1ca8",
   "metadata": {},
   "outputs": [],
   "source": [
    "#url = 'https://github.com/anolte-DSC/Python_for_Earth_Sciences/blob/main/Quickstart_Python_Jupyter/Datasets/Iris.csv'\n",
    "url = 'C:/Users/annika/Nextcloud/Dokumente/3_Trainings/C_Datasets/Iris/Iris.csv'\n",
    "data_df = pd.read_csv(url)"
   ]
  },
  {
   "cell_type": "markdown",
   "id": "d7c4eb9e-3d0a-4454-aef6-0ff03797abdb",
   "metadata": {},
   "source": [
    "## 3. Data in Pandas series vs. NumPy array"
   ]
  },
  {
   "cell_type": "markdown",
   "id": "fee976d6-0967-4e90-89dc-3014be035421",
   "metadata": {},
   "source": [
    "Extract only the petal length from the dataset. The result will be a Pandas series. Dataframes consist of multiple series that share an index."
   ]
  },
  {
   "cell_type": "code",
   "execution_count": null,
   "id": "0805ed67-9d01-45b2-b7e3-3bfad138abbe",
   "metadata": {},
   "outputs": [],
   "source": [
    "petal_length_series = data_df['PetalLengthCm']\n",
    "petal_length_series"
   ]
  },
  {
   "cell_type": "markdown",
   "id": "bf44e9a6-bf92-4521-b581-dceaa8db8455",
   "metadata": {},
   "source": [
    "Convert the Pandas series to a NumPy array and compare the result. A Pandas series is build on top of a NumPy array. Compared to a NumPy array, the Pandas series has a named index that allows calling values based on the index name."
   ]
  },
  {
   "cell_type": "code",
   "execution_count": null,
   "id": "28c441ef-c82e-4d08-9ee1-d314ea8c7955",
   "metadata": {},
   "outputs": [],
   "source": [
    "petal_length_array = petal_length_series.values\n",
    "petal_length_array"
   ]
  },
  {
   "cell_type": "markdown",
   "id": "57a82756-40db-4d52-854e-7b5c74293b49",
   "metadata": {},
   "source": [
    "## 4. The Iris dataset as a NumPy two-dimensional array"
   ]
  },
  {
   "cell_type": "markdown",
   "id": "d670572c-fecf-4187-926e-1e349b0e1c66",
   "metadata": {},
   "source": [
    "The Iris dataset, when represented as a two-dimensional NumPy array, is a matrix. However, a multidimensional NumPy array can also have more than two dimensions."
   ]
  },
  {
   "cell_type": "code",
   "execution_count": null,
   "id": "3570ea6b-2238-43f0-81fe-454546a87089",
   "metadata": {},
   "outputs": [],
   "source": [
    "data_array = data_df.iloc[:, 1:].values\n",
    "data_array"
   ]
  },
  {
   "cell_type": "markdown",
   "id": "1751e50f-55d5-4420-801c-b4c0a9f55c4a",
   "metadata": {},
   "source": [
    "## 5. Data selection"
   ]
  },
  {
   "cell_type": "markdown",
   "id": "0039eaa6-3e86-467c-9396-305ae5204d09",
   "metadata": {},
   "source": [
    "Select the first five samples from the Iris dataset. Note that indexing starts at 0. "
   ]
  },
  {
   "cell_type": "code",
   "execution_count": null,
   "id": "7616effc-8ade-4fe2-8b36-b95f1e663802",
   "metadata": {},
   "outputs": [],
   "source": [
    "# Select from dataframe:\n",
    "data_df.loc[0:5,:]\n",
    "# or\n",
    "data_df.head(5) "
   ]
  },
  {
   "cell_type": "code",
   "execution_count": null,
   "id": "84bf6743-14ca-45cb-b113-d5d588022b55",
   "metadata": {},
   "outputs": [],
   "source": [
    "# Select from array:\n",
    "data_array[0:5,:] "
   ]
  },
  {
   "cell_type": "markdown",
   "id": "1b2ced1f-1652-45e2-945b-2594cb01c39f",
   "metadata": {},
   "source": [
    "Select species Iris-versicolor."
   ]
  },
  {
   "cell_type": "code",
   "execution_count": null,
   "id": "6343fb0d-51c5-400e-a4a1-e3eebf5a75d1",
   "metadata": {
    "scrolled": true
   },
   "outputs": [],
   "source": [
    "# Select from dataframe:\n",
    "data_df.loc[data_df['Species'] == 'Iris-versicolor',:]"
   ]
  },
  {
   "cell_type": "code",
   "execution_count": null,
   "id": "df39da0d-5278-48d3-b9f9-2fcaa7101af1",
   "metadata": {},
   "outputs": [],
   "source": [
    "# Select from array:\n",
    "print(data_array[:, 4] == 'Iris-versicolor')\n",
    "mask = (data_array[:, 4] == 'Iris-versicolor')\n",
    "data_array[mask] # A NumPy slice is still pointing to the orignal array."
   ]
  },
  {
   "cell_type": "markdown",
   "id": "1bf07192-eb1e-4a8e-93dc-74a68ebbaf66",
   "metadata": {},
   "source": [
    "## 6. Data analysis"
   ]
  },
  {
   "cell_type": "markdown",
   "id": "1f00f233-d1f1-4034-b231-affb18411d5f",
   "metadata": {},
   "source": [
    "How many samples per species?"
   ]
  },
  {
   "cell_type": "code",
   "execution_count": null,
   "id": "e6f2e893-3a5b-4d40-8980-beb1107f4ab3",
   "metadata": {},
   "outputs": [],
   "source": [
    "# In dataframe:\n",
    "data_df['Species'].value_counts()"
   ]
  },
  {
   "cell_type": "code",
   "execution_count": null,
   "id": "583b0b85-9eb8-4123-bb7c-aaad7e6e68f3",
   "metadata": {},
   "outputs": [],
   "source": [
    "# In array:\n",
    "np.unique(data_array[:, -1], return_counts=True)"
   ]
  },
  {
   "cell_type": "markdown",
   "id": "c78daab4-e7fe-4bc9-9012-26fca2d4d919",
   "metadata": {},
   "source": [
    "A build in Pandas functions for basic data statistics:"
   ]
  },
  {
   "cell_type": "code",
   "execution_count": null,
   "id": "d89fc221-8157-40d8-8411-8f279caaaea5",
   "metadata": {},
   "outputs": [],
   "source": [
    "data_df.describe()"
   ]
  },
  {
   "cell_type": "markdown",
   "id": "fa6270b6-784d-447c-8df5-4ebd258b0208",
   "metadata": {},
   "source": [
    "Summary statistics (mean, standard deviation, minimum, and maximum) for each feature within each species group using the build in Pandas functions 'groupby' and 'agg':"
   ]
  },
  {
   "cell_type": "code",
   "execution_count": null,
   "id": "f1e939d7-5910-4ee1-bc50-dd81be98c3fd",
   "metadata": {},
   "outputs": [],
   "source": [
    "grouped = data_df.groupby('Species')\n",
    "summary = grouped.agg({\n",
    "    'SepalLengthCm': ['mean', 'std', 'min', 'max'],\n",
    "    'SepalWidthCm': ['mean', 'std', 'min', 'max'],\n",
    "    'PetalLengthCm': ['mean', 'std', 'min', 'max'],\n",
    "    'PetalWidthCm': ['mean', 'std', 'min', 'max']\n",
    "})\n",
    "print(summary)"
   ]
  },
  {
   "cell_type": "markdown",
   "id": "6a24a588-d54a-461e-8b16-d7a31afccde5",
   "metadata": {},
   "source": [
    "## 7. Data operations"
   ]
  },
  {
   "cell_type": "markdown",
   "id": "91df6cfc-f73b-4222-b59c-d95eee65d98f",
   "metadata": {},
   "source": [
    "Calculate the petal area from the other features and add it as a new feature."
   ]
  },
  {
   "cell_type": "code",
   "execution_count": null,
   "id": "16f778d4-cf0f-4533-b5e6-6543cf79fea6",
   "metadata": {},
   "outputs": [],
   "source": [
    "# In dataframe:\n",
    "data_df['PetalAreaCm2'] = data_df['PetalLengthCm'] * data_df['PetalWidthCm'] \n",
    "data_df.head(5)"
   ]
  },
  {
   "cell_type": "code",
   "execution_count": null,
   "id": "4275f6e6-425a-4ec9-af85-6250fb47b2a5",
   "metadata": {},
   "outputs": [],
   "source": [
    "# In array:\n",
    "petal_area = data_array[:, 2] * data_array[:, 3]\n",
    "data_array = np.hstack((data_array, petal_area.reshape(-1, 1)))\n",
    "data_array[0:5,:] "
   ]
  },
  {
   "cell_type": "markdown",
   "id": "7ed9da7c-8c65-45ed-a7a5-0fa2a5fce944",
   "metadata": {},
   "source": [
    "Some build in NumPy functions for basic data operations:"
   ]
  },
  {
   "cell_type": "code",
   "execution_count": null,
   "id": "85d7bd76-ff98-4869-9f91-29e1ce87adf7",
   "metadata": {
    "scrolled": true
   },
   "outputs": [],
   "source": [
    "mean_values = np.mean(data_array[:, 5], axis=0)\n",
    "std_deviation = np.std(data_array[:, 5], axis=0)\n",
    "mean_values = mean_values.round(2)\n",
    "std_deviation = std_deviation.round(2)\n",
    "print(\"Mean of petal area:\", mean_values)\n",
    "print(\"Standard deviation of petal area:\", std_deviation)"
   ]
  },
  {
   "cell_type": "markdown",
   "id": "71e44fcc-86fe-419f-8ac0-1924de6368f4",
   "metadata": {},
   "source": [
    "## 8. Visualizing data with Matplotlib"
   ]
  },
  {
   "cell_type": "markdown",
   "id": "b94404d8-0758-40b9-b60c-a7b7fbaada61",
   "metadata": {},
   "source": [
    "Matplotlib is a plotting library that Pandas leverages for its built-in plotting capabilities, allowing for easy visualization of DataFrame and Series data. There are various plot types available with Matplotlib as well as options for customizations. The following is a histogram with default settings."
   ]
  },
  {
   "cell_type": "code",
   "execution_count": null,
   "id": "f8630143-525f-4c73-b893-4462f46da24f",
   "metadata": {},
   "outputs": [],
   "source": [
    "data_df['PetalLengthCm'].plot.hist()"
   ]
  }
 ],
 "metadata": {
  "kernelspec": {
   "display_name": "Python 3 (ipykernel)",
   "language": "python",
   "name": "python3"
  },
  "language_info": {
   "codemirror_mode": {
    "name": "ipython",
    "version": 3
   },
   "file_extension": ".py",
   "mimetype": "text/x-python",
   "name": "python",
   "nbconvert_exporter": "python",
   "pygments_lexer": "ipython3",
   "version": "3.11.9"
  }
 },
 "nbformat": 4,
 "nbformat_minor": 5
}
